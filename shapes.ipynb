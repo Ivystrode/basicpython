{
 "cells": [
  {
   "cell_type": "markdown",
   "metadata": {},
   "source": [
    "# Class for geometric shapes"
   ]
  },
  {
   "cell_type": "code",
   "execution_count": 63,
   "metadata": {},
   "outputs": [],
   "source": [
    "import math"
   ]
  },
  {
   "cell_type": "code",
   "execution_count": 64,
   "metadata": {},
   "outputs": [],
   "source": [
    "class Shape():\n",
    "    \n",
    "    def __init__(self, v1=None, v2=None, v3=None, v4=None, centre=None, radius=None):\n",
    "        self.v1 = v1\n",
    "        self.v2 = v2\n",
    "        self.v3 = v3\n",
    "        self.v4 = v4\n",
    "        self.centre = centre\n",
    "        self.radius = radius\n",
    "        \n",
    "    def add(self):\n",
    "        return self.v1 + self.v2\n",
    "    \n"
   ]
  },
  {
   "cell_type": "code",
   "execution_count": 65,
   "metadata": {},
   "outputs": [],
   "source": [
    "class Circle(Shape):\n",
    "    \n",
    "    def __init__(self, centre, radius):\n",
    "        super().__init__(centre=centre, radius=radius)\n",
    "        \n",
    "\n",
    "    def get_circumference(self):\n",
    "        diameter = self.radius*2\n",
    "        return math.pi * diameter   "
   ]
  },
  {
   "cell_type": "code",
   "execution_count": null,
   "metadata": {},
   "outputs": [],
   "source": []
  },
  {
   "cell_type": "code",
   "execution_count": 66,
   "metadata": {},
   "outputs": [
    {
     "name": "stdout",
     "output_type": "stream",
     "text": [
      "18.84955592153876\n",
      "94.24777960769379\n"
     ]
    }
   ],
   "source": [
    "c = Circle(centre=0, radius=3)\n",
    "d = Circle(centre=0, radius=15)\n",
    "print(c.get_circumference())\n",
    "print(d.get_circumference())"
   ]
  },
  {
   "cell_type": "code",
   "execution_count": 68,
   "metadata": {},
   "outputs": [],
   "source": [
    "square = Shape(v1=[1,1], v2=[1,2], v3=[2,2], v4=[2,1])\n",
    "\n",
    "circle = Shape(centre=[5,5], radius=3)\n",
    "\n",
    "triangle = Shape(v1=[1,1], v2=[3,1], v3=[2,2])"
   ]
  },
  {
   "cell_type": "code",
   "execution_count": 72,
   "metadata": {},
   "outputs": [
    {
     "data": {
      "text/plain": [
       "[1, 1, 3, 1]"
      ]
     },
     "execution_count": 72,
     "metadata": {},
     "output_type": "execute_result"
    }
   ],
   "source": [
    "triangle.add()\n",
    "# square.add()"
   ]
  }
 ],
 "metadata": {
  "interpreter": {
   "hash": "31f2aee4e71d21fbe5cf8b01ff0e069b9275f58929596ceb00d14d90e3e16cd6"
  },
  "kernelspec": {
   "display_name": "Python 3.8.10 64-bit",
   "language": "python",
   "name": "python3"
  },
  "language_info": {
   "codemirror_mode": {
    "name": "ipython",
    "version": 3
   },
   "file_extension": ".py",
   "mimetype": "text/x-python",
   "name": "python",
   "nbconvert_exporter": "python",
   "pygments_lexer": "ipython3",
   "version": "3.8.10"
  },
  "orig_nbformat": 4
 },
 "nbformat": 4,
 "nbformat_minor": 2
}
